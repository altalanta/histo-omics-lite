{
 "cells": [
  {
   "cell_type": "markdown",
   "metadata": {},
   "source": [
    "# Quickstart Inference\n",
    "Walkthrough for scientists to embed new histology tiles and omics vectors using the trained model."
   ]
  },
  {
   "cell_type": "markdown",
   "metadata": {},
   "source": [
    "## 1. Generate synthetic demo data\n",
    "Run the shard maker to create tiny example shards and omics tables."
   ]
  },
  {
   "cell_type": "code",
   "execution_count": null,
   "metadata": {},
   "outputs": [],
   "source": [
    "!python -m histo_omics_lite.data.shard_maker synthetic --train-samples 32 --val-samples 8"
   ]
  },
  {
   "cell_type": "markdown",
   "metadata": {},
   "source": [
    "## 2. Train (or download) a checkpoint\n",
    "Use the fast debug config for a quick CPU-friendly run."
   ]
  },
  {
   "cell_type": "code",
   "execution_count": null,
   "metadata": {},
   "outputs": [],
   "source": [
    "!python -m histo_omics_lite.training.train data=fast_debug train=fast_debug"
   ]
  },
  {
   "cell_type": "markdown",
   "metadata": {},
   "source": [
    "## 3. Embed new tiles + omics\n",
    "Point the inference CLI at the trained checkpoint and data directory."
   ]
  },
  {
   "cell_type": "code",
   "execution_count": null,
   "metadata": {},
   "outputs": [],
   "source": [
    "!python -m histo_omics_lite.inference.cli embed --checkpoint outputs/clip.ckpt --tiles-dir data/synthetic/tiles/val --omics-table data/synthetic/tables/omics_val.parquet --output-dir outputs/inference_demo"
   ]
  }
 ],
 "metadata": {
  "kernelspec": {
   "display_name": "Python 3",
   "language": "python",
   "name": "python3"
  },
  "language_info": {
   "name": "python",
   "version": "3.10"
  }
 },
 "nbformat": 4,
 "nbformat_minor": 5
}