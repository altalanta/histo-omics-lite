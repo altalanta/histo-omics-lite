{
 "cells": [
  {
   "cell_type": "markdown",
   "metadata": {},
   "source": [
    "# Embedding Diagnostics\n",
    "Visualise embedding structure with UMAP and inspect Grad-CAM heatmaps."
   ]
  },
  {
   "cell_type": "markdown",
   "metadata": {},
   "source": [
    "## Compute embeddings and metrics\n",
    "Use the evaluation CLI to generate retrieval metrics, bootstrap intervals, UMAP and Grad-CAM artefacts."
   ]
  },
  {
   "cell_type": "code",
   "execution_count": null,
   "metadata": {},
   "outputs": [],
   "source": [
    "!python -m histo_omics_lite.evaluation.evaluate run --checkpoint outputs/clip.ckpt --data-config configs/data/default.yaml --output-dir reports/notebook"
   ]
  },
  {
   "cell_type": "markdown",
   "metadata": {},
   "source": [
    "## Load metrics\n",
    "Review retrieval performance and confidence intervals."
   ]
  },
  {
   "cell_type": "code",
   "execution_count": null,
   "metadata": {},
   "outputs": [],
   "source": [
    "import json\n",
    "from pathlib import Path\n",
    "metrics = json.loads(Path('reports/notebook/metrics.json').read_text())\n",
    "metrics"
   ]
  },
  {
   "cell_type": "markdown",
   "metadata": {},
   "source": [
    "## Display UMAP and Grad-CAM\n",
    "Show the saved plots inside the notebook."
   ]
  },
  {
    "cell_type": "code",
    "execution_count": null,
    "metadata": {},
    "outputs": [],
    "source": [
      "from IPython.display import Image, display\n",
      "display(Image('reports/notebook/umap.png'))\n",
      "for path in sorted(Path('reports/notebook/gradcam').glob('*.png')):\n",
      "    display(Image(str(path)))"
    ]
  }
 ],
 "metadata": {
  "kernelspec": {
   "display_name": "Python 3",
   "language": "python",
   "name": "python3"
  },
  "language_info": {
   "name": "python",
   "version": "3.10"
  }
 },
 "nbformat": 4,
 "nbformat_minor": 5
}
